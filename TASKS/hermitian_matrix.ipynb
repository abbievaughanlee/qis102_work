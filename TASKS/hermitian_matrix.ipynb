{
 "cells": [
  {
   "cell_type": "code",
   "execution_count": 11,
   "metadata": {},
   "outputs": [
    {
     "data": {
      "text/latex": [
       "$\\displaystyle \\mathbf{A}^{-1}=\\begin{bmatrix}0.00454 &-0.00704 + 0.02566i &0.01047-0.05089i\\\\[1em]-0.00704-0.02566i &0.05896 &0.01906 + 0.01969i\\\\[1em]0.01047 + 0.05089i &0.01906-0.01969i &-0.00503\\\\\\end{bmatrix}$"
      ],
      "text/plain": [
       "<IPython.core.display.Math object>"
      ]
     },
     "metadata": {},
     "output_type": "display_data"
    },
    {
     "data": {
      "text/latex": [
       "$\\displaystyle \\mathbf{A}^{-1}\\dag=\\begin{bmatrix}0.00454 &-0.00704 + 0.02566i &0.01047-0.05089i\\\\[1em]-0.00704-0.02566i &0.05896 &0.01906 + 0.01969i\\\\[1em]0.01047 + 0.05089i &0.01906-0.01969i &-0.00503\\\\\\end{bmatrix}$"
      ],
      "text/plain": [
       "<IPython.core.display.Math object>"
      ]
     },
     "metadata": {},
     "output_type": "display_data"
    },
    {
     "data": {
      "text/plain": [
       "'Since the above matrices are equivalent,  A inverse is Hermitian.'"
      ]
     },
     "metadata": {},
     "output_type": "display_data"
    },
    {
     "data": {
      "text/plain": [
       "'Therefore, the inverse of a Hermitian matrix is also Hermitian, as claimed.'"
      ]
     },
     "metadata": {},
     "output_type": "display_data"
    }
   ],
   "source": [
    "import numpy as np\n",
    "from qis102_utils import as_latex\n",
    "\n",
    "# prove that the inverse of a hermitian matrix is also hermitian\n",
    "a = np.array(\n",
    "    [[5, 4 + 5j, 6 - 16j], [4 - 5j, 13, 7], [6 + 16j, 7, 2.1]]\n",
    ")  # hermitian matrix\n",
    "\n",
    "a_inverse = np.linalg.inv(a)  # inverse of a hermitian matrix\n",
    "\n",
    "# a inverse is hermitian if it is equal to its adjoint\n",
    "a_adj = np.conj(a_inverse).T\n",
    "\n",
    "display(as_latex(a_inverse, prefix=r\"\\mathbf{A}^{-1}=\"))\n",
    "display(as_latex(a_adj, prefix=r\"\\mathbf{A}^{-1}\\dag=\"))\n",
    "display(\"Since the above matrices are equivalent,  A inverse is Hermitian.\")\n",
    "display(\"Therefore, the inverse of a Hermitian matrix is also Hermitian, as claimed.\")"
   ]
  },
  {
   "cell_type": "code",
   "execution_count": 15,
   "metadata": {},
   "outputs": [
    {
     "data": {
      "text/latex": [
       "$\\displaystyle \\mathbf{A}^{5}=\\begin{bmatrix}2427862.472 &2040092.962 + 153377.358i &1597327.4066-2661713.8546i\\\\[1em]2040092.962-153377.358i &1743710.389 &1387600.5017-1369565.054i\\\\[1em]1597327.4066 + 2661713.8546i &1387600.5017 + 1369565.054i &1969558.13501\\\\\\end{bmatrix}$"
      ],
      "text/plain": [
       "<IPython.core.display.Math object>"
      ]
     },
     "metadata": {},
     "output_type": "display_data"
    },
    {
     "data": {
      "text/latex": [
       "$\\displaystyle \\mathbf{A}^{5}\\dag=\\begin{bmatrix}2427862.472 &2040092.962 + 153377.358i &1597327.4066-2661713.8546i\\\\[1em]2040092.962-153377.358i &1743710.389 &1387600.5017-1369565.054i\\\\[1em]1597327.4066 + 2661713.8546i &1387600.5017 + 1369565.054i &1969558.13501\\\\\\end{bmatrix}$"
      ],
      "text/plain": [
       "<IPython.core.display.Math object>"
      ]
     },
     "metadata": {},
     "output_type": "display_data"
    }
   ],
   "source": [
    "# prove that a hermitian matrix raised to an integer exponent yields another hermitian matrix\n",
    "\n",
    "a_raised = np.linalg.matrix_power(a, 5)  # matrix A raised to the fifth power\n",
    "a_raised_adj = np.conj(a_raised).T  # adjoint of A raised to the fifth power\n",
    "\n",
    "# if a_raised and a_raised_adj are equal, then a_raised is hermitian and the claim is true:\n",
    "display(as_latex(a_raised, prefix=r\"\\mathbf{A}^{5}=\"))\n",
    "display(as_latex(a_raised_adj, prefix=r\"\\mathbf{A}^{5}\\dag=\"))\n",
    "\n",
    "display(\"Since the above matrices are equivalent,  A inverse is Hermitian.\")\n",
    "display(\"Therefore, the inverse of a Hermitian matrix is also Hermitian, as claimed.\")"
   ]
  }
 ],
 "metadata": {
  "kernelspec": {
   "display_name": "qis102",
   "language": "python",
   "name": "python3"
  },
  "language_info": {
   "codemirror_mode": {
    "name": "ipython",
    "version": 3
   },
   "file_extension": ".py",
   "mimetype": "text/x-python",
   "name": "python",
   "nbconvert_exporter": "python",
   "pygments_lexer": "ipython3",
   "version": "3.12.3"
  }
 },
 "nbformat": 4,
 "nbformat_minor": 2
}
