{
 "cells": [
  {
   "cell_type": "code",
   "execution_count": 1,
   "metadata": {},
   "outputs": [
    {
     "name": "stdout",
     "output_type": "stream",
     "text": [
      "2323 in octal = 1,235 in base 10\n"
     ]
    }
   ],
   "source": [
    "# octal_converter.ipynb\n",
    "\n",
    "# cell  1: convert octal number 2323 to base 10\n",
    "\n",
    "import numpy as np\n",
    "\n",
    "\n",
    "def octal_to_base10(octal):\n",
    "    octal = octal[::-1]  # reverse octal string\n",
    "    sum = 0\n",
    "    for i in range(len(octal)):\n",
    "        to_add = int(octal[i]) * 8**i  # formula for converting from base 8 to base 10\n",
    "        sum += to_add\n",
    "    return sum\n",
    "\n",
    "\n",
    "octal = \"2323\"\n",
    "d = octal_to_base10(octal)\n",
    "print(f\"{octal} in octal = {d:,} in base 10\")"
   ]
  },
  {
   "cell_type": "code",
   "execution_count": 2,
   "metadata": {},
   "outputs": [
    {
     "name": "stdout",
     "output_type": "stream",
     "text": [
      "1,235 in decimal = 2323 in octal\n"
     ]
    }
   ],
   "source": [
    "# cell 2: convert the decimal number from cell 1 back to octal by looping\n",
    "def base10_to_octal(n):\n",
    "    if (n) < 8:  # if n is less than 8, it is already in base 8\n",
    "        return n\n",
    "    oct_str = \"\"  # empty string initialization: will later hold the converted value\n",
    "    while n > 0:\n",
    "        oct_str += str(n % 8)\n",
    "        n = int(n / 8)\n",
    "    oct_str = oct_str[::-1]\n",
    "    return oct_str\n",
    "\n",
    "\n",
    "d = 1235\n",
    "oct_str = base10_to_octal(d)\n",
    "print(f\"{d:,} in decimal = {oct_str} in octal\")"
   ]
  },
  {
   "cell_type": "code",
   "execution_count": 3,
   "metadata": {},
   "outputs": [
    {
     "name": "stdout",
     "output_type": "stream",
     "text": [
      "2323 in octal = 1,235 in decimal\n"
     ]
    }
   ],
   "source": [
    "# cell three: convert the octal number to base 10 without looping\n",
    "# Better to call the built-in integer constructor\n",
    "o_str = \"2323\"\n",
    "d = int(o_str, 8)\n",
    "print(f\"{o_str} in octal = {d:,} in decimal\")"
   ]
  },
  {
   "cell_type": "code",
   "execution_count": 4,
   "metadata": {},
   "outputs": [
    {
     "name": "stdout",
     "output_type": "stream",
     "text": [
      "1,235 in decimal = 2323 in binary\n"
     ]
    }
   ],
   "source": [
    "# cell four: convert the decimal number back to octal without looping\n",
    "# Better to call numpy's built-in base converter\n",
    "d = 1235\n",
    "o_str = np.base_repr(d, base=8)\n",
    "print(f\"{d:,} in decimal = {o_str} in binary\")"
   ]
  }
 ],
 "metadata": {
  "kernelspec": {
   "display_name": "qis102",
   "language": "python",
   "name": "python3"
  },
  "language_info": {
   "codemirror_mode": {
    "name": "ipython",
    "version": 3
   },
   "file_extension": ".py",
   "mimetype": "text/x-python",
   "name": "python",
   "nbconvert_exporter": "python",
   "pygments_lexer": "ipython3",
   "version": "3.12.3"
  }
 },
 "nbformat": 4,
 "nbformat_minor": 2
}
