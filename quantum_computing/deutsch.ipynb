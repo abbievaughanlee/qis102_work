{
 "cells": [
  {
   "cell_type": "code",
   "execution_count": 1,
   "id": "6fae34e6-bfdf-4627-8b00-03e4c7a33d1e",
   "metadata": {
    "tags": []
   },
   "outputs": [
    {
     "ename": "ModuleNotFoundError",
     "evalue": "No module named 'qis102_utils'",
     "output_type": "error",
     "traceback": [
      "\u001b[1;31m---------------------------------------------------------------------------\u001b[0m",
      "\u001b[1;31mModuleNotFoundError\u001b[0m                       Traceback (most recent call last)",
      "Cell \u001b[1;32mIn[1], line 15\u001b[0m\n\u001b[0;32m     13\u001b[0m \u001b[38;5;28;01mfrom\u001b[39;00m \u001b[38;5;21;01mIPython\u001b[39;00m\u001b[38;5;21;01m.\u001b[39;00m\u001b[38;5;21;01mcore\u001b[39;00m\u001b[38;5;21;01m.\u001b[39;00m\u001b[38;5;21;01mdisplay\u001b[39;00m \u001b[38;5;28;01mimport\u001b[39;00m Math\n\u001b[0;32m     14\u001b[0m \u001b[38;5;28;01mfrom\u001b[39;00m \u001b[38;5;21;01mIPython\u001b[39;00m\u001b[38;5;21;01m.\u001b[39;00m\u001b[38;5;21;01mdisplay\u001b[39;00m \u001b[38;5;28;01mimport\u001b[39;00m display\n\u001b[1;32m---> 15\u001b[0m \u001b[38;5;28;01mfrom\u001b[39;00m \u001b[38;5;21;01mqis102_utils\u001b[39;00m \u001b[38;5;28;01mimport\u001b[39;00m as_latex\n\u001b[0;32m     16\u001b[0m \u001b[38;5;28;01mfrom\u001b[39;00m \u001b[38;5;21;01mqiskit\u001b[39;00m \u001b[38;5;28;01mimport\u001b[39;00m QuantumCircuit, transpile\n\u001b[0;32m     17\u001b[0m \u001b[38;5;28;01mfrom\u001b[39;00m \u001b[38;5;21;01mqiskit\u001b[39;00m\u001b[38;5;21;01m.\u001b[39;00m\u001b[38;5;21;01mvisualization\u001b[39;00m \u001b[38;5;28;01mimport\u001b[39;00m (\n\u001b[0;32m     18\u001b[0m     plot_distribution,\n\u001b[0;32m     19\u001b[0m )\n",
      "\u001b[1;31mModuleNotFoundError\u001b[0m: No module named 'qis102_utils'"
     ]
    }
   ],
   "source": [
    "# deutsch.ipynb\n",
    "# prepare two qubits q0 and q1 in whatever state you wish\n",
    "# one of four functions are applied to the qubits:\n",
    "# NOP (no operation), Always 0 (q0 is set to |0>), Always 1 (q0 is set to |1>), NOT (gate)\n",
    "# NOP and NOT: balanced functions\n",
    "# always 0 and always 1: constant functions\n",
    "# invert q1 and put both qubits into a superposition, then send them into the secret function\n",
    "# after the secret function, take q0 out of superposition and measure its value to determine if the Oracle was balanced or constant\n",
    "# if it measures as 0: balanced\n",
    "# if it measures as 1: constant\n",
    "\n",
    "\n",
    "from IPython.core.display import Math\n",
    "from IPython.display import display\n",
    "from qis102_utils import as_latex\n",
    "from qiskit import QuantumCircuit, transpile\n",
    "from qiskit.visualization import (\n",
    "    plot_distribution,\n",
    ")\n",
    "from qiskit_aer import AerSimulator\n",
    "\n",
    "# Cell 1 - NOP (Balanced) Function, No change with q0 = |0>\n",
    "qc = QuantumCircuit(2, 1)  # quantum circuit with 2 qubits and 1 classical bit\n",
    "qc.save_statevector(\"sv1\")\n",
    "qc.save_statevector(\"sv2\")\n",
    "qc.id(0)\n",
    "qc.id(1)\n",
    "qc.save_statevector(\"sv3\")\n",
    "qc.measure(0, 0)\n",
    "\n",
    "display(qc.draw(output=\"mpl\"))\n",
    "backend = AerSimulator()\n",
    "qc_transpiled = transpile(qc, backend)\n",
    "result = backend.run(qc_transpiled, shots=100_000).result()\n",
    "\n",
    "sv1 = result.data(0)[\"sv1\"]\n",
    "sv2 = result.data(0)[\"sv2\"]\n",
    "sv3 = result.data(0)[\"sv3\"]\n",
    "\n",
    "display(as_latex(sv1, prefix=r\"\\mathbf{Statevector\\;1}=\"))\n",
    "display(as_latex(sv2, prefix=r\"\\mathbf{Statevector\\;2}=\"))\n",
    "display(as_latex(sv3, prefix=r\"\\mathbf{Statevector\\;3}=\"))\n",
    "\n",
    "counts = result.get_counts(qc)\n",
    "display(plot_distribution(counts))\n"
   ]
  },
  {
   "cell_type": "code",
   "execution_count": 2,
   "id": "2366d900-9bb9-4400-bcec-590f4c060596",
   "metadata": {
    "tags": []
   },
   "outputs": [
    {
     "data": {
      "image/png": "[encoded data removed]",
      "text/plain": [
       "<Figure size 621.739x284.278 with 1 Axes>"
      ]
     },
     "metadata": {},
     "output_type": "display_data"
    },
    {
     "data": {
      "text/latex": [
       "$\\displaystyle \\mathbf{Statevector\\;1}=\\begin{bmatrix}0 &1 &0 &0\\\\\\end{bmatrix}$"
      ],
      "text/plain": [
       "<IPython.core.display.Math object>"
      ]
     },
     "metadata": {},
     "output_type": "display_data"
    },
    {
     "data": {
      "text/latex": [
       "$\\displaystyle \\mathbf{Statevector\\;2}=\\begin{bmatrix}0 &1 &0 &0\\\\\\end{bmatrix}$"
      ],
      "text/plain": [
       "<IPython.core.display.Math object>"
      ]
     },
     "metadata": {},
     "output_type": "display_data"
    },
    {
     "data": {
      "text/latex": [
       "$\\displaystyle \\mathbf{Statevector\\;3}=\\begin{bmatrix}0 &1 &0 &0\\\\\\end{bmatrix}$"
      ],
      "text/plain": [
       "<IPython.core.display.Math object>"
      ]
     },
     "metadata": {},
     "output_type": "display_data"
    },
    {
     "data": {
      "image/png": "[encoded data removed]",
      "text/plain": [
       "<Figure size 700x500 with 1 Axes>"
      ]
     },
     "metadata": {},
     "output_type": "display_data"
    }
   ],
   "source": [
    "# Cell 2 - NOP (Balanced) Function, No change with q0 = |1>\n",
    "\n",
    "qc = QuantumCircuit(2, 1)\n",
    "qc.x(0)\n",
    "qc.save_statevector(\"sv1\")\n",
    "qc.save_statevector(\"sv2\")\n",
    "qc.id(0)\n",
    "qc.id(1)\n",
    "qc.save_statevector(\"sv3\")\n",
    "qc.measure(0, 0)\n",
    "\n",
    "display(qc.draw(output=\"mpl\"))\n",
    "backend = AerSimulator()\n",
    "qc_transpiled = transpile(qc, backend)\n",
    "result = backend.run(qc_transpiled, shots=100_000).result()\n",
    "\n",
    "sv1 = result.data(0)[\"sv1\"]\n",
    "sv2 = result.data(0)[\"sv2\"]\n",
    "sv3 = result.data(0)[\"sv3\"]\n",
    "\n",
    "display(as_latex(sv1, prefix=r\"\\mathbf{Statevector\\;1}=\"))\n",
    "display(as_latex(sv2, prefix=r\"\\mathbf{Statevector\\;2}=\"))\n",
    "display(as_latex(sv3, prefix=r\"\\mathbf{Statevector\\;3}=\"))\n",
    "\n",
    "counts = result.get_counts(qc)\n",
    "display(plot_distribution(counts))"
   ]
  },
  {
   "cell_type": "code",
   "execution_count": 1,
   "id": "79bd9033-a1e2-4b15-b2f9-e2a0a800e44c",
   "metadata": {
    "tags": []
   },
   "outputs": [
    {
     "ename": "NameError",
     "evalue": "name 'QuantumCircuit' is not defined",
     "output_type": "error",
     "traceback": [
      "\u001b[1;31m---------------------------------------------------------------------------\u001b[0m",
      "\u001b[1;31mNameError\u001b[0m                                 Traceback (most recent call last)",
      "Cell \u001b[1;32mIn[1], line 3\u001b[0m\n\u001b[0;32m      1\u001b[0m \u001b[38;5;66;03m# Cell 3 - Always 0 (Constant) Function, sets q0 to 00 regardless of its initial state; initial state q0 = |0>\u001b[39;00m\n\u001b[1;32m----> 3\u001b[0m qc \u001b[38;5;241m=\u001b[39m \u001b[43mQuantumCircuit\u001b[49m(\u001b[38;5;241m2\u001b[39m, \u001b[38;5;241m1\u001b[39m)\n\u001b[0;32m      4\u001b[0m qc\u001b[38;5;241m.\u001b[39msave_statevector(\u001b[38;5;124m\"\u001b[39m\u001b[38;5;124msv1\u001b[39m\u001b[38;5;124m\"\u001b[39m)\n\u001b[0;32m      5\u001b[0m qc\u001b[38;5;241m.\u001b[39msave_statevector(\u001b[38;5;124m\"\u001b[39m\u001b[38;5;124msv2\u001b[39m\u001b[38;5;124m\"\u001b[39m)\n",
      "\u001b[1;31mNameError\u001b[0m: name 'QuantumCircuit' is not defined"
     ]
    }
   ],
   "source": [
    "# Cell 3 - Always 0 (Constant) Function, sets q0 to 00 regardless of its initial state; initial state q0 = |0>\n",
    "\n",
    "qc = QuantumCircuit(2, 1)\n",
    "qc.save_statevector(\"sv1\")\n",
    "qc.save_statevector(\"sv2\")\n",
    "qc.cx(0, 1)\n",
    "qc.cx(1, 0)\n",
    "qc.save_statevector(\"sv3\")\n",
    "qc.measure(0, 0)\n",
    "\n",
    "display(qc.draw(output=\"mpl\"))\n",
    "backend = AerSimulator()\n",
    "qc_transpiled = transpile(qc, backend)\n",
    "result = backend.run(qc_transpiled, shots=100_000).result()\n",
    "\n",
    "sv1 = result.data(0)[\"sv1\"]\n",
    "sv2 = result.data(0)[\"sv2\"]\n",
    "sv3 = result.data(0)[\"sv3\"]\n",
    "\n",
    "display(as_latex(sv1, prefix=r\"\\mathbf{Statevector\\;1}=\"))\n",
    "display(as_latex(sv2, prefix=r\"\\mathbf{Statevector\\;2}=\"))\n",
    "display(as_latex(sv3, prefix=r\"\\mathbf{Statevector\\;3}=\"))\n",
    "\n",
    "counts = result.get_counts(qc)\n",
    "display(plot_distribution(counts))"
   ]
  },
  {
   "cell_type": "code",
   "execution_count": null,
   "id": "6341ffc3-577f-46c4-9534-653e0d9b0d59",
   "metadata": {
    "tags": []
   },
   "outputs": [],
   "source": [
    "# Cell 4 - Always 0 (Constant), initial state q0 = |1>\n",
    "\n",
    "qc = QuantumCircuit(2, 1)\n",
    "qc.x(0)\n",
    "qc.save_statevector(\"sv1\")\n",
    "qc.save_statevector(\"sv2\")\n",
    "qc.cx(0, 1)\n",
    "qc.cx(1, 0)\n",
    "qc.save_statevector(\"sv3\")\n",
    "qc.measure(0, 0)\n",
    "\n",
    "display(qc.draw(output=\"mpl\"))\n",
    "backend = AerSimulator()\n",
    "qc_transpiled = transpile(qc, backend)\n",
    "result = backend.run(qc_transpiled, shots=100_000).result()\n",
    "\n",
    "sv1 = result.data(0)[\"sv1\"]\n",
    "sv2 = result.data(0)[\"sv2\"]\n",
    "sv3 = result.data(0)[\"sv3\"]\n",
    "\n",
    "display(as_latex(sv1, prefix=r\"\\mathbf{Statevector\\;1}=\"))\n",
    "display(as_latex(sv2, prefix=r\"\\mathbf{Statevector\\;2}=\"))\n",
    "display(as_latex(sv3, prefix=r\"\\mathbf{Statevector\\;3}=\"))\n",
    "\n",
    "counts = result.get_counts(qc)\n",
    "display(plot_distribution(counts))\n"
   ]
  },
  {
   "cell_type": "code",
   "execution_count": null,
   "id": "421cdf24-45cb-4738-b5fb-1e570770576b",
   "metadata": {
    "tags": []
   },
   "outputs": [],
   "source": [
    "# Cell 5 - Always 1 (Constant), initial state q0 = |0>\n",
    "\n",
    "qc = QuantumCircuit(2, 1)\n",
    "qc.save_statevector(\"sv1\")\n",
    "qc.save_statevector(\"sv2\")\n",
    "qc.cx(0, 1)\n",
    "qc.cx(1, 0)\n",
    "qc.x(0)\n",
    "qc.save_statevector(\"sv3\")\n",
    "qc.measure(0, 0)\n",
    "\n",
    "display(qc.draw(output=\"mpl\"))\n",
    "backend = AerSimulator()\n",
    "qc_transpiled = transpile(qc, backend)\n",
    "result = backend.run(qc_transpiled, shots=100_000).result()\n",
    "\n",
    "sv1 = result.data(0)[\"sv1\"]\n",
    "sv2 = result.data(0)[\"sv2\"]\n",
    "sv3 = result.data(0)[\"sv3\"]\n",
    "\n",
    "display(as_latex(sv1, prefix=r\"\\mathbf{Statevector\\;1}=\"))\n",
    "display(as_latex(sv2, prefix=r\"\\mathbf{Statevector\\;2}=\"))\n",
    "display(as_latex(sv3, prefix=r\"\\mathbf{Statevector\\;3}=\"))\n",
    "\n",
    "counts = result.get_counts(qc)\n",
    "display(plot_distribution(counts))\n"
   ]
  },
  {
   "cell_type": "code",
   "execution_count": null,
   "id": "51999433-645c-4886-b277-fef500224aaa",
   "metadata": {
    "tags": []
   },
   "outputs": [],
   "source": [
    "# Cell 6 - Always 1 (Constant), initial state q0 = |1>\n",
    "\n",
    "qc = QuantumCircuit(2, 1)\n",
    "qc.x(0)\n",
    "qc.save_statevector(\"sv1\")\n",
    "qc.save_statevector(\"sv2\")\n",
    "qc.cx(0, 1)\n",
    "qc.cx(1, 0)\n",
    "qc.x(0)\n",
    "qc.save_statevector(\"sv3\")\n",
    "qc.measure(0, 0)\n",
    "\n",
    "display(qc.draw(output=\"mpl\"))\n",
    "backend = AerSimulator()\n",
    "qc_transpiled = transpile(qc, backend)\n",
    "result = backend.run(qc_transpiled, shots=100_000).result()\n",
    "\n",
    "sv1 = result.data(0)[\"sv1\"]\n",
    "sv2 = result.data(0)[\"sv2\"]\n",
    "sv3 = result.data(0)[\"sv3\"]\n",
    "\n",
    "display(as_latex(sv1, prefix=r\"\\mathbf{Statevector\\;1}=\"))\n",
    "display(as_latex(sv2, prefix=r\"\\mathbf{Statevector\\;2}=\"))\n",
    "display(as_latex(sv3, prefix=r\"\\mathbf{Statevector\\;3}=\"))\n",
    "\n",
    "counts = result.get_counts(qc)\n",
    "display(plot_distribution(counts))\n"
   ]
  },
  {
   "cell_type": "code",
   "execution_count": null,
   "id": "c30b8eab-d98d-4ff7-b085-6a047c2ad9de",
   "metadata": {
    "tags": []
   },
   "outputs": [],
   "source": [
    "# Cell 7 - NOT (Balanced), initial state q0 = |0>\n",
    "\n",
    "qc = QuantumCircuit(2, 1)\n",
    "qc.save_statevector(\"sv1\")\n",
    "qc.save_statevector(\"sv2\")\n",
    "qc.x(0)\n",
    "qc.id(1)\n",
    "qc.save_statevector(\"sv3\")\n",
    "qc.measure(0, 0)\n",
    "\n",
    "display(qc.draw(output=\"mpl\"))\n",
    "backend = AerSimulator()\n",
    "qc_transpiled = transpile(qc, backend)\n",
    "result = backend.run(qc_transpiled, shots=100_000).result()\n",
    "\n",
    "sv1 = result.data(0)[\"sv1\"]\n",
    "sv2 = result.data(0)[\"sv2\"]\n",
    "sv3 = result.data(0)[\"sv3\"]\n",
    "\n",
    "display(as_latex(sv1, prefix=r\"\\mathbf{Statevector\\;1}=\"))\n",
    "display(as_latex(sv2, prefix=r\"\\mathbf{Statevector\\;2}=\"))\n",
    "display(as_latex(sv3, prefix=r\"\\mathbf{Statevector\\;3}=\"))\n",
    "\n",
    "counts = result.get_counts(qc)\n",
    "display(plot_distribution(counts))\n"
   ]
  },
  {
   "cell_type": "code",
   "execution_count": null,
   "id": "5b346ffd-949d-4e27-9c92-4da4da3a7b97",
   "metadata": {
    "tags": []
   },
   "outputs": [],
   "source": [
    "# Cell 8 - NOT (Balanced), initial state q0 = |1>\n",
    "\n",
    "qc = QuantumCircuit(2, 1)\n",
    "qc.x(0)\n",
    "qc.save_statevector(\"sv1\")\n",
    "qc.save_statevector(\"sv2\")\n",
    "qc.x(0)\n",
    "qc.id(1)\n",
    "qc.save_statevector(\"sv3\")\n",
    "qc.measure(0, 0)\n",
    "\n",
    "display(qc.draw(output=\"mpl\"))\n",
    "backend = AerSimulator()\n",
    "qc_transpiled = transpile(qc, backend)\n",
    "result = backend.run(qc_transpiled, shots=100_000).result()\n",
    "\n",
    "sv1 = result.data(0)[\"sv1\"]\n",
    "sv2 = result.data(0)[\"sv2\"]\n",
    "sv3 = result.data(0)[\"sv3\"]\n",
    "\n",
    "display(as_latex(sv1, prefix=r\"\\mathbf{Statevector\\;1}=\"))\n",
    "display(as_latex(sv2, prefix=r\"\\mathbf{Statevector\\;2}=\"))\n",
    "display(as_latex(sv3, prefix=r\"\\mathbf{Statevector\\;3}=\"))\n",
    "\n",
    "counts = result.get_counts(qc)\n",
    "display(plot_distribution(counts))\n"
   ]
  },
  {
   "cell_type": "code",
   "execution_count": null,
   "id": "cdd26ff2-c20b-4730-8824-a0f267f28d6d",
   "metadata": {
    "tags": []
   },
   "outputs": [],
   "source": [
    "# Cell 9 - Detector: NOP (Balanced)\n",
    "\n",
    "qc = QuantumCircuit(2, 1) # create a quantum circuit with two qubits and one classical bit\n",
    "# perform necessary operations on q0 and q1:\n",
    "qc.x(1)\n",
    "qc.save_statevector(\"sv1\")\n",
    "qc.h(0)\n",
    "qc.h(1)\n",
    "qc.save_statevector(\"sv2\")\n",
    "# start of NOP function:\n",
    "qc.id(0)\n",
    "qc.id(1)\n",
    "qc.save_statevector(\"sv3\")\n",
    "qc.h(0)\n",
    "qc.save_statevector(\"sv4\")\n",
    "# measure the final state\n",
    "qc.measure(0, 0)\n",
    "\n",
    "display(qc.draw(output=\"mpl\"))\n",
    "backend = AerSimulator()\n",
    "qc_transpiled = transpile(qc, backend)\n",
    "result = backend.run(qc_transpiled, shots=1).result()\n",
    "\n",
    "sv1 = result.data(0)[\"sv1\"]\n",
    "sv2 = result.data(0)[\"sv2\"]\n",
    "sv3 = result.data(0)[\"sv3\"]\n",
    "sv4 = result.data(0)[\"sv4\"]\n",
    "\n",
    "display(as_latex(sv1, prefix=r\"\\mathbf{Statevector\\;1}=\"))\n",
    "display(as_latex(sv2, prefix=r\"\\mathbf{Statevector\\;2}=\"))\n",
    "display(as_latex(sv3, prefix=r\"\\mathbf{Statevector\\;3}=\"))\n",
    "display(as_latex(sv4, prefix=r\"\\mathbf{Statevector\\;4}=\"))\n",
    "\n",
    "counts = result.get_counts(qc)\n",
    "display(plot_distribution(counts))\n",
    "\n",
    "if counts.get(\"0\") == 1:\n",
    "    display(Math((r\"\\large\\color{green}{\\mathrm{\\mathbf{Balanced}}}\")))\n",
    "if counts.get(\"1\") == 1:\n",
    "    display(Math((r\"\\large\\color{blue}{\\mathrm{\\mathbf{Constant}}}\")))\n"
   ]
  },
  {
   "cell_type": "code",
   "execution_count": null,
   "id": "acccc5f2-ebb5-45e8-9383-5dbd650ca2f0",
   "metadata": {
    "tags": []
   },
   "outputs": [],
   "source": [
    "# Cell 10 - Detector: Always 0 (Constant)\n",
    "\n",
    "qc = QuantumCircuit(2, 1)\n",
    "qc.x(1)\n",
    "qc.save_statevector(\"sv1\")\n",
    "qc.h(0)\n",
    "qc.h(1)\n",
    "qc.save_statevector(\"sv2\")\n",
    "qc.cx(0, 1)\n",
    "qc.cx(1, 0)\n",
    "qc.save_statevector(\"sv3\")\n",
    "qc.h(0)\n",
    "qc.save_statevector(\"sv4\")\n",
    "qc.measure(0, 0)\n",
    "\n",
    "display(qc.draw(output=\"mpl\"))\n",
    "backend = AerSimulator()\n",
    "qc_transpiled = transpile(qc, backend)\n",
    "result = backend.run(qc_transpiled, shots=1).result()\n",
    "\n",
    "sv1 = result.data(0)[\"sv1\"]\n",
    "sv2 = result.data(0)[\"sv2\"]\n",
    "sv3 = result.data(0)[\"sv3\"]\n",
    "sv4 = result.data(0)[\"sv4\"]\n",
    "\n",
    "display(as_latex(sv1, prefix=r\"\\mathbf{Statevector\\;1}=\"))\n",
    "display(as_latex(sv2, prefix=r\"\\mathbf{Statevector\\;2}=\"))\n",
    "display(as_latex(sv3, prefix=r\"\\mathbf{Statevector\\;3}=\"))\n",
    "display(as_latex(sv4, prefix=r\"\\mathbf{Statevector\\;4}=\"))\n",
    "\n",
    "counts = result.get_counts(qc)\n",
    "display(plot_distribution(counts))\n",
    "\n",
    "if counts.get(\"0\") == 1:\n",
    "    display(Math((r\"\\large\\color{green}{\\mathrm{\\mathbf{Balanced}}}\")))\n",
    "if counts.get(\"1\") == 1:\n",
    "    display(Math((r\"\\large\\color{blue}{\\mathrm{\\mathbf{Constant}}}\")))\n"
   ]
  },
  {
   "cell_type": "code",
   "execution_count": null,
   "id": "40744dc8-4bef-46a9-9dff-d66e03aa5f4b",
   "metadata": {
    "tags": []
   },
   "outputs": [],
   "source": [
    "# Cell 11 - Detector: Always 1 (Constant)\n",
    "\n",
    "qc = QuantumCircuit(2, 1)\n",
    "qc.x(1)\n",
    "qc.save_statevector(\"sv1\")\n",
    "qc.h(0)\n",
    "qc.h(1)\n",
    "qc.save_statevector(\"sv2\")\n",
    "qc.cx(0, 1)\n",
    "qc.cx(1, 0)\n",
    "qc.x(0)\n",
    "qc.save_statevector(\"sv3\")\n",
    "qc.h(0)\n",
    "qc.save_statevector(\"sv4\")\n",
    "qc.measure(0, 0)\n",
    "\n",
    "display(qc.draw(output=\"mpl\"))\n",
    "backend = AerSimulator()\n",
    "qc_transpiled = transpile(qc, backend)\n",
    "result = backend.run(qc_transpiled, shots=1).result()\n",
    "\n",
    "sv1 = result.data(0)[\"sv1\"]\n",
    "sv2 = result.data(0)[\"sv2\"]\n",
    "sv3 = result.data(0)[\"sv3\"]\n",
    "sv4 = result.data(0)[\"sv4\"]\n",
    "\n",
    "display(as_latex(sv1, prefix=r\"\\mathbf{Statevector\\;1}=\"))\n",
    "display(as_latex(sv2, prefix=r\"\\mathbf{Statevector\\;2}=\"))\n",
    "display(as_latex(sv3, prefix=r\"\\mathbf{Statevector\\;3}=\"))\n",
    "display(as_latex(sv4, prefix=r\"\\mathbf{Statevector\\;4}=\"))\n",
    "\n",
    "counts = result.get_counts(qc)\n",
    "display(plot_distribution(counts))\n",
    "\n",
    "if counts.get(\"0\") == 1:\n",
    "    display(Math((r\"\\large\\color{green}{\\mathrm{\\mathbf{Balanced}}}\")))\n",
    "if counts.get(\"1\") == 1:\n",
    "    display(Math((r\"\\large\\color{blue}{\\mathrm{\\mathbf{Constant}}}\")))\n"
   ]
  },
  {
   "cell_type": "code",
   "execution_count": null,
   "id": "8a5e36ed-fe42-44c3-a3f3-2a5a2afc2fec",
   "metadata": {
    "tags": []
   },
   "outputs": [],
   "source": [
    "# Cell 12 - Detector: NOP (Balanced)\n",
    "\n",
    "qc = QuantumCircuit(2, 1)\n",
    "qc.x(1)\n",
    "qc.save_statevector(\"sv1\")\n",
    "qc.h(0)\n",
    "qc.h(1)\n",
    "qc.save_statevector(\"sv2\")\n",
    "qc.x(0)\n",
    "qc.id(1)\n",
    "qc.save_statevector(\"sv3\")\n",
    "qc.h(0)\n",
    "qc.save_statevector(\"sv4\")\n",
    "qc.measure(0, 0)\n",
    "\n",
    "display(qc.draw(output=\"mpl\"))\n",
    "backend = AerSimulator()\n",
    "qc_transpiled = transpile(qc, backend)\n",
    "result = backend.run(qc_transpiled, shots=1).result()\n",
    "\n",
    "sv1 = result.data(0)[\"sv1\"]\n",
    "sv2 = result.data(0)[\"sv2\"]\n",
    "sv3 = result.data(0)[\"sv3\"]\n",
    "sv4 = result.data(0)[\"sv4\"]\n",
    "\n",
    "display(as_latex(sv1, prefix=r\"\\mathbf{Statevector\\;1}=\"))\n",
    "display(as_latex(sv2, prefix=r\"\\mathbf{Statevector\\;2}=\"))\n",
    "display(as_latex(sv3, prefix=r\"\\mathbf{Statevector\\;3}=\"))\n",
    "display(as_latex(sv4, prefix=r\"\\mathbf{Statevector\\;4}=\"))\n",
    "\n",
    "counts = result.get_counts(qc)\n",
    "display(plot_distribution(counts))\n",
    "\n",
    "if counts.get(\"0\") == 1:\n",
    "    display(Math((r\"\\large\\color{green}{\\mathrm{\\mathbf{Balanced}}}\")))\n",
    "if counts.get(\"1\") == 1:\n",
    "    display(Math((r\"\\large\\color{blue}{\\mathrm{\\mathbf{Constant}}}\")))\n"
   ]
  }
 ],
 "metadata": {
  "kernelspec": {
   "display_name": "Python 3 (ipykernel)",
   "language": "python",
   "name": "python3"
  },
  "language_info": {
   "codemirror_mode": {
    "name": "ipython",
    "version": 3
   },
   "file_extension": ".py",
   "mimetype": "text/x-python",
   "name": "python",
   "nbconvert_exporter": "python",
   "pygments_lexer": "ipython3",
   "version": "3.12.3"
  }
 },
 "nbformat": 4,
 "nbformat_minor": 5
}
